{
 "cells": [
  {
   "cell_type": "code",
   "execution_count": 15,
   "metadata": {},
   "outputs": [
    {
     "name": "stdout",
     "output_type": "stream",
     "text": [
      "\n",
      "X = tensor([[1.],\n",
      "        [1.],\n",
      "        [1.],\n",
      "        [1.],\n",
      "        [1.]])\n",
      "X.shape = torch.Size([5, 1])\n"
     ]
    },
    {
     "data": {
      "text/plain": [
       "(None, None)"
      ]
     },
     "execution_count": 15,
     "metadata": {},
     "output_type": "execute_result"
    }
   ],
   "source": [
    "import torch\n",
    "\n",
    "# Create a torch\n",
    "X = torch.tensor ( [[1.],\n",
    "                    [1.],\n",
    "                    [1.],\n",
    "                    [1.],\n",
    "                    [1.]] )\n",
    "print ( f\"\\n{X = }\" ) , print ( f\"{X.shape = }\" )"
   ]
  },
  {
   "cell_type": "code",
   "execution_count": 16,
   "metadata": {},
   "outputs": [
    {
     "name": "stdout",
     "output_type": "stream",
     "text": [
      "\n",
      "X = tensor([[1.],\n",
      "        [1.],\n",
      "        [1.],\n",
      "        [1.],\n",
      "        [1.]])\n",
      "X.shape = torch.Size([5, 1])\n",
      "\n",
      "X_squeezed = tensor([1., 1., 1., 1., 1.])\n",
      "X_squeezed.shape = torch.Size([5])\n"
     ]
    },
    {
     "data": {
      "text/plain": [
       "(None, None)"
      ]
     },
     "execution_count": 16,
     "metadata": {},
     "output_type": "execute_result"
    }
   ],
   "source": [
    "# Be aware. Here you are not getting rid of extra dimension.\n",
    "X.squeeze()\n",
    "print ( f\"\\n{X = }\" ) , print ( f\"{X.shape = }\" )\n",
    "X_squeezed = X.squeeze () # Here you are properly getting rid of extra dimension.\n",
    "print ( f\"\\n{X_squeezed = }\" ) , print ( f\"{X_squeezed.shape = }\" )"
   ]
  }
 ],
 "metadata": {
  "kernelspec": {
   "display_name": "Python 3",
   "language": "python",
   "name": "python3"
  },
  "language_info": {
   "codemirror_mode": {
    "name": "ipython",
    "version": 3
   },
   "file_extension": ".py",
   "mimetype": "text/x-python",
   "name": "python",
   "nbconvert_exporter": "python",
   "pygments_lexer": "ipython3",
   "version": "3.11.3"
  },
  "orig_nbformat": 4
 },
 "nbformat": 4,
 "nbformat_minor": 2
}
